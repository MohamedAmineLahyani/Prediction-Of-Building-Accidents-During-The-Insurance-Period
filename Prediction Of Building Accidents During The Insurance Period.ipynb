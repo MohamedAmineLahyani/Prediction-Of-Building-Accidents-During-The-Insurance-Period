{
 "cells": [
  {
   "cell_type": "markdown",
   "metadata": {
    "id": "K9pToL9Q12nD"
   },
   "source": [
    "<h1 align=\"center\">  Project : Prediction Of Building Accidents During The Insurance Period </h2>  \n",
    "<h6 align=\"right\" >  Mohamed Amine Lahyani </h6>\n",
    "</br>"
   ]
  },
  {
   "cell_type": "markdown",
   "metadata": {
    "id": "Gi780LjV2UEU"
   },
   "source": [
    "## Importing libraries"
   ]
  },
  {
   "cell_type": "code",
   "execution_count": 81,
   "metadata": {
    "id": "-uIjAWAX10Yu"
   },
   "outputs": [],
   "source": [
    "import pandas as pd\n",
    "import numpy as np\n",
    "import matplotlib.pyplot as plt\n",
    "from sklearn.preprocessing import LabelEncoder\n",
    "from sklearn.linear_model import LogisticRegression\n",
    "from sklearn.neighbors import KNeighborsClassifier\n",
    "from sklearn.tree import DecisionTreeClassifier\n",
    "from sklearn.model_selection import train_test_split\n",
    "from sklearn.metrics import plot_confusion_matrix\n",
    "from sklearn.metrics import classification_report\n",
    "from sklearn.ensemble import RandomForestClassifier\n",
    "from sklearn.neural_network import MLPClassifier\n",
    "\n",
    "import warnings \n",
    "warnings.filterwarnings(\"ignore\")"
   ]
  },
  {
   "cell_type": "markdown",
   "metadata": {
    "id": "RTWqEDO13sm6"
   },
   "source": [
    "### Reading *train_Insurance.csv* & *test_Insurance.csv* files"
   ]
  },
  {
   "cell_type": "code",
   "execution_count": 2,
   "metadata": {
    "id": "t6wEywm83yjd"
   },
   "outputs": [],
   "source": [
    "train = pd.read_csv(\"train_Insurance.csv\")\n",
    "test = pd.read_csv(\"test_Insurance.csv\")"
   ]
  },
  {
   "cell_type": "code",
   "execution_count": 3,
   "metadata": {},
   "outputs": [
    {
     "name": "stdout",
     "output_type": "stream",
     "text": [
      "(5012, 13)\n",
      "(2147, 13)\n"
     ]
    }
   ],
   "source": [
    "print(train.shape)\n",
    "print(test.shape)"
   ]
  },
  {
   "cell_type": "code",
   "execution_count": 4,
   "metadata": {},
   "outputs": [],
   "source": [
    "files = ['train_Insurance.csv', 'test_Insurance.csv']\n",
    "df = pd.DataFrame()\n",
    "for file in files:\n",
    "    data = pd.read_csv(file)\n",
    "    df = pd.concat([df, data], axis=0)\n",
    "df.to_csv('merged_files.csv', index=False)"
   ]
  },
  {
   "cell_type": "code",
   "execution_count": 5,
   "metadata": {
    "scrolled": true
   },
   "outputs": [],
   "source": [
    "data=pd.read_csv(\"merged_files.csv\")"
   ]
  },
  {
   "cell_type": "markdown",
   "metadata": {
    "id": "7M6EUoBe3L1E"
   },
   "source": [
    "# I. Data preprocessing"
   ]
  },
  {
   "cell_type": "code",
   "execution_count": 6,
   "metadata": {
    "id": "Z0HemdzR3iE2"
   },
   "outputs": [
    {
     "data": {
      "text/html": [
       "<div>\n",
       "<style scoped>\n",
       "    .dataframe tbody tr th:only-of-type {\n",
       "        vertical-align: middle;\n",
       "    }\n",
       "\n",
       "    .dataframe tbody tr th {\n",
       "        vertical-align: top;\n",
       "    }\n",
       "\n",
       "    .dataframe thead th {\n",
       "        text-align: right;\n",
       "    }\n",
       "</style>\n",
       "<table border=\"1\" class=\"dataframe\">\n",
       "  <thead>\n",
       "    <tr style=\"text-align: right;\">\n",
       "      <th></th>\n",
       "      <th>Customer Id</th>\n",
       "      <th>YearOfObservation</th>\n",
       "      <th>Insured_Period</th>\n",
       "      <th>Residential</th>\n",
       "      <th>Building_Painted</th>\n",
       "      <th>Building_Fenced</th>\n",
       "      <th>Garden</th>\n",
       "      <th>Settlement</th>\n",
       "      <th>Building Dimension</th>\n",
       "      <th>Building_Type</th>\n",
       "      <th>NumberOfWindows</th>\n",
       "      <th>Geo_Code</th>\n",
       "      <th>Claim</th>\n",
       "    </tr>\n",
       "  </thead>\n",
       "  <tbody>\n",
       "    <tr>\n",
       "      <th>0</th>\n",
       "      <td>H13501</td>\n",
       "      <td>2012</td>\n",
       "      <td>1.0</td>\n",
       "      <td>1</td>\n",
       "      <td>N</td>\n",
       "      <td>V</td>\n",
       "      <td>V</td>\n",
       "      <td>U</td>\n",
       "      <td>1240.0</td>\n",
       "      <td>Wood-framed</td>\n",
       "      <td>without</td>\n",
       "      <td>75117</td>\n",
       "      <td>non</td>\n",
       "    </tr>\n",
       "    <tr>\n",
       "      <th>1</th>\n",
       "      <td>H14962</td>\n",
       "      <td>2012</td>\n",
       "      <td>1.0</td>\n",
       "      <td>0</td>\n",
       "      <td>N</td>\n",
       "      <td>V</td>\n",
       "      <td>V</td>\n",
       "      <td>U</td>\n",
       "      <td>900.0</td>\n",
       "      <td>Non-combustible</td>\n",
       "      <td>without</td>\n",
       "      <td>62916</td>\n",
       "      <td>non</td>\n",
       "    </tr>\n",
       "    <tr>\n",
       "      <th>2</th>\n",
       "      <td>H17755</td>\n",
       "      <td>2013</td>\n",
       "      <td>1.0</td>\n",
       "      <td>1</td>\n",
       "      <td>V</td>\n",
       "      <td>N</td>\n",
       "      <td>O</td>\n",
       "      <td>R</td>\n",
       "      <td>4984.0</td>\n",
       "      <td>Non-combustible</td>\n",
       "      <td>4</td>\n",
       "      <td>31149</td>\n",
       "      <td>oui</td>\n",
       "    </tr>\n",
       "    <tr>\n",
       "      <th>3</th>\n",
       "      <td>H13369</td>\n",
       "      <td>2016</td>\n",
       "      <td>0.5</td>\n",
       "      <td>0</td>\n",
       "      <td>N</td>\n",
       "      <td>V</td>\n",
       "      <td>V</td>\n",
       "      <td>U</td>\n",
       "      <td>600.0</td>\n",
       "      <td>Wood-framed</td>\n",
       "      <td>without</td>\n",
       "      <td>6012</td>\n",
       "      <td>oui</td>\n",
       "    </tr>\n",
       "    <tr>\n",
       "      <th>4</th>\n",
       "      <td>H12988</td>\n",
       "      <td>2012</td>\n",
       "      <td>1.0</td>\n",
       "      <td>0</td>\n",
       "      <td>N</td>\n",
       "      <td>V</td>\n",
       "      <td>V</td>\n",
       "      <td>U</td>\n",
       "      <td>900.0</td>\n",
       "      <td>Non-combustible</td>\n",
       "      <td>without</td>\n",
       "      <td>57631</td>\n",
       "      <td>non</td>\n",
       "    </tr>\n",
       "  </tbody>\n",
       "</table>\n",
       "</div>"
      ],
      "text/plain": [
       "  Customer Id  YearOfObservation  Insured_Period  Residential   \n",
       "0      H13501               2012             1.0            1  \\\n",
       "1      H14962               2012             1.0            0   \n",
       "2      H17755               2013             1.0            1   \n",
       "3      H13369               2016             0.5            0   \n",
       "4      H12988               2012             1.0            0   \n",
       "\n",
       "  Building_Painted Building_Fenced Garden Settlement  Building Dimension   \n",
       "0                N               V      V          U              1240.0  \\\n",
       "1                N               V      V          U               900.0   \n",
       "2                V               N      O          R              4984.0   \n",
       "3                N               V      V          U               600.0   \n",
       "4                N               V      V          U               900.0   \n",
       "\n",
       "     Building_Type NumberOfWindows Geo_Code Claim  \n",
       "0      Wood-framed         without    75117   non  \n",
       "1  Non-combustible         without    62916   non  \n",
       "2  Non-combustible               4    31149   oui  \n",
       "3      Wood-framed         without     6012   oui  \n",
       "4  Non-combustible         without    57631   non  "
      ]
     },
     "execution_count": 6,
     "metadata": {},
     "output_type": "execute_result"
    }
   ],
   "source": [
    "data.head(5)"
   ]
  },
  {
   "cell_type": "code",
   "execution_count": 7,
   "metadata": {},
   "outputs": [
    {
     "data": {
      "text/html": [
       "<div>\n",
       "<style scoped>\n",
       "    .dataframe tbody tr th:only-of-type {\n",
       "        vertical-align: middle;\n",
       "    }\n",
       "\n",
       "    .dataframe tbody tr th {\n",
       "        vertical-align: top;\n",
       "    }\n",
       "\n",
       "    .dataframe thead th {\n",
       "        text-align: right;\n",
       "    }\n",
       "</style>\n",
       "<table border=\"1\" class=\"dataframe\">\n",
       "  <thead>\n",
       "    <tr style=\"text-align: right;\">\n",
       "      <th></th>\n",
       "      <th>Customer Id</th>\n",
       "      <th>YearOfObservation</th>\n",
       "      <th>Insured_Period</th>\n",
       "      <th>Residential</th>\n",
       "      <th>Building_Painted</th>\n",
       "      <th>Building_Fenced</th>\n",
       "      <th>Garden</th>\n",
       "      <th>Settlement</th>\n",
       "      <th>Building Dimension</th>\n",
       "      <th>Building_Type</th>\n",
       "      <th>NumberOfWindows</th>\n",
       "      <th>Geo_Code</th>\n",
       "      <th>Claim</th>\n",
       "    </tr>\n",
       "  </thead>\n",
       "  <tbody>\n",
       "    <tr>\n",
       "      <th>0</th>\n",
       "      <td>H3733</td>\n",
       "      <td>2013</td>\n",
       "      <td>1.0</td>\n",
       "      <td>0</td>\n",
       "      <td>V</td>\n",
       "      <td>V</td>\n",
       "      <td>V</td>\n",
       "      <td>U</td>\n",
       "      <td>3760.0</td>\n",
       "      <td>Fire-resistive</td>\n",
       "      <td>without</td>\n",
       "      <td>43157</td>\n",
       "      <td>oui</td>\n",
       "    </tr>\n",
       "    <tr>\n",
       "      <th>1</th>\n",
       "      <td>H16909</td>\n",
       "      <td>2015</td>\n",
       "      <td>1.0</td>\n",
       "      <td>0</td>\n",
       "      <td>V</td>\n",
       "      <td>N</td>\n",
       "      <td>O</td>\n",
       "      <td>R</td>\n",
       "      <td>1452.0</td>\n",
       "      <td>Fire-resistive</td>\n",
       "      <td>5</td>\n",
       "      <td>58194</td>\n",
       "      <td>non</td>\n",
       "    </tr>\n",
       "    <tr>\n",
       "      <th>2</th>\n",
       "      <td>H16867</td>\n",
       "      <td>2013</td>\n",
       "      <td>1.0</td>\n",
       "      <td>1</td>\n",
       "      <td>V</td>\n",
       "      <td>N</td>\n",
       "      <td>O</td>\n",
       "      <td>R</td>\n",
       "      <td>1944.0</td>\n",
       "      <td>Ordinary</td>\n",
       "      <td>6</td>\n",
       "      <td>92050</td>\n",
       "      <td>oui</td>\n",
       "    </tr>\n",
       "    <tr>\n",
       "      <th>3</th>\n",
       "      <td>H14813</td>\n",
       "      <td>2015</td>\n",
       "      <td>1.0</td>\n",
       "      <td>0</td>\n",
       "      <td>N</td>\n",
       "      <td>V</td>\n",
       "      <td>V</td>\n",
       "      <td>U</td>\n",
       "      <td>2270.0</td>\n",
       "      <td>Non-combustible</td>\n",
       "      <td>without</td>\n",
       "      <td>13209</td>\n",
       "      <td>oui</td>\n",
       "    </tr>\n",
       "    <tr>\n",
       "      <th>4</th>\n",
       "      <td>H3728</td>\n",
       "      <td>2016</td>\n",
       "      <td>0.5</td>\n",
       "      <td>0</td>\n",
       "      <td>V</td>\n",
       "      <td>N</td>\n",
       "      <td>O</td>\n",
       "      <td>R</td>\n",
       "      <td>2976.0</td>\n",
       "      <td>Fire-resistive</td>\n",
       "      <td>9</td>\n",
       "      <td>5177</td>\n",
       "      <td>non</td>\n",
       "    </tr>\n",
       "  </tbody>\n",
       "</table>\n",
       "</div>"
      ],
      "text/plain": [
       "  Customer Id  YearOfObservation  Insured_Period  Residential   \n",
       "0       H3733               2013             1.0            0  \\\n",
       "1      H16909               2015             1.0            0   \n",
       "2      H16867               2013             1.0            1   \n",
       "3      H14813               2015             1.0            0   \n",
       "4       H3728               2016             0.5            0   \n",
       "\n",
       "  Building_Painted Building_Fenced Garden Settlement  Building Dimension   \n",
       "0                V               V      V          U              3760.0  \\\n",
       "1                V               N      O          R              1452.0   \n",
       "2                V               N      O          R              1944.0   \n",
       "3                N               V      V          U              2270.0   \n",
       "4                V               N      O          R              2976.0   \n",
       "\n",
       "     Building_Type NumberOfWindows Geo_Code Claim  \n",
       "0   Fire-resistive         without    43157   oui  \n",
       "1   Fire-resistive               5    58194   non  \n",
       "2         Ordinary               6    92050   oui  \n",
       "3  Non-combustible         without    13209   oui  \n",
       "4   Fire-resistive               9     5177   non  "
      ]
     },
     "execution_count": 7,
     "metadata": {},
     "output_type": "execute_result"
    }
   ],
   "source": [
    "test.head(5)"
   ]
  },
  {
   "cell_type": "code",
   "execution_count": 8,
   "metadata": {},
   "outputs": [
    {
     "data": {
      "text/plain": [
       "Customer Id             0\n",
       "YearOfObservation       0\n",
       "Insured_Period          0\n",
       "Residential             0\n",
       "Building_Painted        0\n",
       "Building_Fenced         0\n",
       "Garden                  7\n",
       "Settlement              0\n",
       "Building Dimension    106\n",
       "Building_Type           0\n",
       "NumberOfWindows         0\n",
       "Geo_Code              102\n",
       "Claim                   0\n",
       "dtype: int64"
      ]
     },
     "execution_count": 8,
     "metadata": {},
     "output_type": "execute_result"
    }
   ],
   "source": [
    "data.isnull().sum()"
   ]
  },
  {
   "cell_type": "code",
   "execution_count": 9,
   "metadata": {},
   "outputs": [
    {
     "data": {
      "text/plain": [
       "Customer Id            object\n",
       "YearOfObservation       int64\n",
       "Insured_Period        float64\n",
       "Residential             int64\n",
       "Building_Painted       object\n",
       "Building_Fenced        object\n",
       "Garden                 object\n",
       "Settlement             object\n",
       "Building Dimension    float64\n",
       "Building_Type          object\n",
       "NumberOfWindows        object\n",
       "Geo_Code               object\n",
       "Claim                  object\n",
       "dtype: object"
      ]
     },
     "execution_count": 9,
     "metadata": {},
     "output_type": "execute_result"
    }
   ],
   "source": [
    "data.dtypes"
   ]
  },
  {
   "cell_type": "markdown",
   "metadata": {},
   "source": [
    "## Handling missing data from the Garden column"
   ]
  },
  {
   "cell_type": "code",
   "execution_count": 10,
   "metadata": {},
   "outputs": [
    {
     "name": "stdout",
     "output_type": "stream",
     "text": [
      "6203.0\n",
      "760.0\n",
      "350.0\n",
      "3900.0\n",
      "3900.0\n",
      "350.0\n",
      "8350.0\n"
     ]
    }
   ],
   "source": [
    "for i in range(len(data)) : \n",
    "    if (data[\"Garden\"][i] not in [\"V\",\"O\"]):\n",
    "        print(data[\"Building Dimension\"][i])"
   ]
  },
  {
   "cell_type": "code",
   "execution_count": 11,
   "metadata": {},
   "outputs": [
    {
     "data": {
      "text/plain": [
       "Garden\n",
       "O    3602\n",
       "V    3550\n",
       "Name: count, dtype: int64"
      ]
     },
     "execution_count": 11,
     "metadata": {},
     "output_type": "execute_result"
    }
   ],
   "source": [
    "data[\"Garden\"].value_counts()"
   ]
  },
  {
   "cell_type": "markdown",
   "metadata": {},
   "source": [
    "### Processing the row with surface = 6203"
   ]
  },
  {
   "cell_type": "code",
   "execution_count": 12,
   "metadata": {},
   "outputs": [
    {
     "name": "stdout",
     "output_type": "stream",
     "text": [
      "Le nombre de batiments dont la surface est supérieur à 6000 et possèdent un jardin :  115\n",
      "Le nombre de batiments dont la surface est supérieur à 6000 et ne possèdent pas un jardin :  246\n"
     ]
    }
   ],
   "source": [
    "nbr_build_with_gar = 0\n",
    "nbr_build_without_gar = 0\n",
    "\n",
    "for i in range(len(data)) : \n",
    "    if data[\"Garden\"][i] in [\"V\"] and (data[\"Building Dimension\"][i]>6000):\n",
    "        nbr_build_with_gar = nbr_build_with_gar+1\n",
    "    elif data[\"Garden\"][i] in [\"O\"] and (data[\"Building Dimension\"][i]>6000):\n",
    "        nbr_build_without_gar = nbr_build_without_gar+1\n",
    "print(\"Le nombre de batiments dont la surface est supérieur à 6000 et possèdent un jardin : \", nbr_build_with_gar)\n",
    "print(\"Le nombre de batiments dont la surface est supérieur à 6000 et ne possèdent pas un jardin : \", nbr_build_without_gar)"
   ]
  },
  {
   "cell_type": "markdown",
   "metadata": {},
   "source": [
    "    => Donc le batiment dont la surface est égale à 6203 a plus de probabilité de ne pas avoir un jardin"
   ]
  },
  {
   "cell_type": "code",
   "execution_count": 13,
   "metadata": {},
   "outputs": [],
   "source": [
    "for i in range(len(data)) : \n",
    "    if data[\"Garden\"][i] not in [\"V\",\"O\"] and (data[\"Building Dimension\"][i]>6000):\n",
    "        data[\"Garden\"][i]=\"O\""
   ]
  },
  {
   "cell_type": "code",
   "execution_count": 14,
   "metadata": {},
   "outputs": [
    {
     "data": {
      "text/plain": [
       "5"
      ]
     },
     "execution_count": 14,
     "metadata": {},
     "output_type": "execute_result"
    }
   ],
   "source": [
    "data[\"Garden\"].isnull().sum()"
   ]
  },
  {
   "cell_type": "markdown",
   "metadata": {},
   "source": [
    "### Processing the row with area = 3900"
   ]
  },
  {
   "cell_type": "code",
   "execution_count": 15,
   "metadata": {},
   "outputs": [
    {
     "name": "stdout",
     "output_type": "stream",
     "text": [
      "Le nombre de batiments dont la surface est entre à 3600 et 4200 et possèdent un jardin :  80\n",
      "Le nombre de batiments dont la surface est entre à 3600 et 4200 et ne possèdent pas un jardin :  146\n"
     ]
    }
   ],
   "source": [
    "nbr_build_with_gar = 0\n",
    "nbr_build_without_gar = 0\n",
    "\n",
    "for i in range(len(data)) : \n",
    "    if data[\"Garden\"][i]  in [\"V\"] and (4200>data[\"Building Dimension\"][i]>3600):\n",
    "        nbr_build_with_gar = nbr_build_with_gar + 1\n",
    "    elif data[\"Garden\"][i] in [\"O\"] and (4200>data[\"Building Dimension\"][i]>3600):\n",
    "        nbr_build_without_gar = nbr_build_without_gar + 1\n",
    "print(\"Le nombre de batiments dont la surface est entre à 3600 et 4200 et possèdent un jardin : \", nbr_build_with_gar)\n",
    "print(\"Le nombre de batiments dont la surface est entre à 3600 et 4200 et ne possèdent pas un jardin : \", nbr_build_without_gar)"
   ]
  },
  {
   "cell_type": "markdown",
   "metadata": {},
   "source": [
    "    => Donc le batiment dont la surface est égale à 3900 a plus de probabilité de ne pas avoir un jardin"
   ]
  },
  {
   "cell_type": "code",
   "execution_count": 16,
   "metadata": {},
   "outputs": [],
   "source": [
    "for i in range(len(data)) : \n",
    "    if data[\"Garden\"][i] not in [\"V\",\"O\"] and (4200>data[\"Building Dimension\"][i]>3600):\n",
    "        data[\"Garden\"][i]=\"O\""
   ]
  },
  {
   "cell_type": "code",
   "execution_count": 17,
   "metadata": {},
   "outputs": [
    {
     "data": {
      "text/plain": [
       "3"
      ]
     },
     "execution_count": 17,
     "metadata": {},
     "output_type": "execute_result"
    }
   ],
   "source": [
    "data[\"Garden\"].isnull().sum()"
   ]
  },
  {
   "cell_type": "markdown",
   "metadata": {},
   "source": [
    "### Processing of two rows with an area equal to 350 and 760"
   ]
  },
  {
   "cell_type": "code",
   "execution_count": 18,
   "metadata": {},
   "outputs": [
    {
     "name": "stdout",
     "output_type": "stream",
     "text": [
      "Le nombre de batiments dont la surface est entre à 200 et 900 et possèdent un jardin :  1513\n",
      "Le nombre de batiments dont la surface est entre à 200 et 900 et ne possèdent pas un jardin :  1285\n"
     ]
    }
   ],
   "source": [
    "nbr_build_with_gar = 0\n",
    "nbr_build_without_gar = 0\n",
    "\n",
    "for i in range(len(data)) : \n",
    "    if data[\"Garden\"][i]  in [\"V\"] and (200<data[\"Building Dimension\"][i]<900):\n",
    "        nbr_build_with_gar = nbr_build_with_gar + 1\n",
    "    elif data[\"Garden\"][i] in [\"O\"] and (200<data[\"Building Dimension\"][i]<900):\n",
    "        nbr_build_without_gar = nbr_build_without_gar + 1\n",
    "print(\"Le nombre de batiments dont la surface est entre à 200 et 900 et possèdent un jardin : \", nbr_build_with_gar)\n",
    "print(\"Le nombre de batiments dont la surface est entre à 200 et 900 et ne possèdent pas un jardin : \", nbr_build_without_gar)"
   ]
  },
  {
   "cell_type": "markdown",
   "metadata": {},
   "source": [
    "    => Donc les batiment dont la surface est entre 200 et 900 ont plus de probabilité d'avoir un jardin"
   ]
  },
  {
   "cell_type": "code",
   "execution_count": 19,
   "metadata": {},
   "outputs": [],
   "source": [
    "for i in range(len(data)) : \n",
    "    if data[\"Garden\"][i] not in [\"V\",\"O\"] and (200<data[\"Building Dimension\"][i]<900):\n",
    "        data[\"Garden\"][i]=\"V\""
   ]
  },
  {
   "cell_type": "code",
   "execution_count": 20,
   "metadata": {},
   "outputs": [
    {
     "data": {
      "text/plain": [
       "0"
      ]
     },
     "execution_count": 20,
     "metadata": {},
     "output_type": "execute_result"
    }
   ],
   "source": [
    "data[\"Garden\"].isnull().sum()"
   ]
  },
  {
   "cell_type": "markdown",
   "metadata": {},
   "source": [
    "## Handling missing data from the Geo_Code column :"
   ]
  },
  {
   "cell_type": "code",
   "execution_count": 21,
   "metadata": {},
   "outputs": [
    {
     "data": {
      "text/plain": [
       "Customer Id             0\n",
       "YearOfObservation       0\n",
       "Insured_Period          0\n",
       "Residential             0\n",
       "Building_Painted        0\n",
       "Building_Fenced         0\n",
       "Garden                  0\n",
       "Settlement              0\n",
       "Building Dimension    106\n",
       "Building_Type           0\n",
       "NumberOfWindows         0\n",
       "Geo_Code              102\n",
       "Claim                   0\n",
       "dtype: int64"
      ]
     },
     "execution_count": 21,
     "metadata": {},
     "output_type": "execute_result"
    }
   ],
   "source": [
    "data.isnull().sum()"
   ]
  },
  {
   "cell_type": "code",
   "execution_count": 22,
   "metadata": {},
   "outputs": [
    {
     "data": {
      "text/plain": [
       "Geo_Code\n",
       "6088     143\n",
       "33063    137\n",
       "6083     113\n",
       "13206     98\n",
       "31555     87\n",
       "        ... \n",
       "6044       1\n",
       "78638      1\n",
       "66171      1\n",
       "73006      1\n",
       "69027      1\n",
       "Name: count, Length: 1307, dtype: int64"
      ]
     },
     "execution_count": 22,
     "metadata": {},
     "output_type": "execute_result"
    }
   ],
   "source": [
    "data[\"Geo_Code\"].value_counts()"
   ]
  },
  {
   "cell_type": "code",
   "execution_count": 23,
   "metadata": {},
   "outputs": [
    {
     "data": {
      "text/plain": [
       "Settlement\n",
       "R    3610\n",
       "U    3549\n",
       "Name: count, dtype: int64"
      ]
     },
     "execution_count": 23,
     "metadata": {},
     "output_type": "execute_result"
    }
   ],
   "source": [
    "data[\"Settlement\"].value_counts()"
   ]
  },
  {
   "cell_type": "code",
   "execution_count": 24,
   "metadata": {},
   "outputs": [],
   "source": [
    "l=[]\n",
    "for i in range(len(data)): \n",
    "    if (data[\"Geo_Code\"][i] in [\"6088\"]) and (data[\"Settlement\"][i] not in l) :\n",
    "        l.append(data[\"Settlement\"][i])\n",
    "        "
   ]
  },
  {
   "cell_type": "code",
   "execution_count": 25,
   "metadata": {},
   "outputs": [
    {
     "data": {
      "text/plain": [
       "['R', 'U']"
      ]
     },
     "execution_count": 25,
     "metadata": {},
     "output_type": "execute_result"
    }
   ],
   "source": [
    "l"
   ]
  },
  {
   "cell_type": "code",
   "execution_count": 26,
   "metadata": {},
   "outputs": [],
   "source": [
    "data1 = data.drop('Geo_Code', axis=1)"
   ]
  },
  {
   "cell_type": "markdown",
   "metadata": {},
   "source": [
    "## Handling missing data from the Building Dimension column :"
   ]
  },
  {
   "cell_type": "code",
   "execution_count": 27,
   "metadata": {},
   "outputs": [
    {
     "data": {
      "text/plain": [
       "Customer Id             0\n",
       "YearOfObservation       0\n",
       "Insured_Period          0\n",
       "Residential             0\n",
       "Building_Painted        0\n",
       "Building_Fenced         0\n",
       "Garden                  0\n",
       "Settlement              0\n",
       "Building Dimension    106\n",
       "Building_Type           0\n",
       "NumberOfWindows         0\n",
       "Claim                   0\n",
       "dtype: int64"
      ]
     },
     "execution_count": 27,
     "metadata": {},
     "output_type": "execute_result"
    }
   ],
   "source": [
    "data1.isnull().sum()"
   ]
  },
  {
   "cell_type": "code",
   "execution_count": 28,
   "metadata": {},
   "outputs": [
    {
     "data": {
      "text/plain": [
       "Building Dimension\n",
       "400.0     150\n",
       "500.0     120\n",
       "300.0     118\n",
       "450.0     117\n",
       "600.0     114\n",
       "         ... \n",
       "1815.0      1\n",
       "5912.0      1\n",
       "431.0       1\n",
       "5939.0      1\n",
       "862.0       1\n",
       "Name: count, Length: 2043, dtype: int64"
      ]
     },
     "execution_count": 28,
     "metadata": {},
     "output_type": "execute_result"
    }
   ],
   "source": [
    "data1[\"Building Dimension\"].value_counts()"
   ]
  },
  {
   "cell_type": "code",
   "execution_count": 29,
   "metadata": {},
   "outputs": [
    {
     "name": "stdout",
     "output_type": "stream",
     "text": [
      "La moyenne des surface des batiments présents dans une résidence 2081.5504885993487\n",
      "La moyenne des surface des batiments présents hors d'une résidence 1797.0652528548123\n"
     ]
    }
   ],
   "source": [
    "import statistics\n",
    "import math\n",
    "\n",
    "l1=[]\n",
    "l2=[]\n",
    "m1=0\n",
    "m2=0\n",
    "\n",
    "for i in range(len(data1)) : \n",
    "    if(not math.isnan(data1[\"Building Dimension\"][i])) :\n",
    "        if (data1[\"Residential\"][i]==1):\n",
    "            l1.append(data1[\"Building Dimension\"][i])\n",
    "        elif (data1[\"Residential\"][i]==0):\n",
    "            l2.append(data1[\"Building Dimension\"][i])\n",
    "\n",
    "m1 = np.mean(l1)\n",
    "m2 = np.mean(l2)\n",
    "print(\"La moyenne des surface des batiments présents dans une résidence\", m1)\n",
    "print(\"La moyenne des surface des batiments présents hors d'une résidence\", m2)\n"
   ]
  },
  {
   "cell_type": "code",
   "execution_count": 30,
   "metadata": {},
   "outputs": [],
   "source": [
    "for i in range(len(data1)) : \n",
    "    if(math.isnan(data1[\"Building Dimension\"][i])) :\n",
    "        if (data1[\"Residential\"][i]==1):\n",
    "            data1[\"Building Dimension\"][i]=m1\n",
    "        elif (data1[\"Residential\"][i]==0):\n",
    "            data1[\"Building Dimension\"][i]=m2\n",
    "        "
   ]
  },
  {
   "cell_type": "code",
   "execution_count": 31,
   "metadata": {},
   "outputs": [
    {
     "data": {
      "text/plain": [
       "Customer Id           0\n",
       "YearOfObservation     0\n",
       "Insured_Period        0\n",
       "Residential           0\n",
       "Building_Painted      0\n",
       "Building_Fenced       0\n",
       "Garden                0\n",
       "Settlement            0\n",
       "Building Dimension    0\n",
       "Building_Type         0\n",
       "NumberOfWindows       0\n",
       "Claim                 0\n",
       "dtype: int64"
      ]
     },
     "execution_count": 31,
     "metadata": {},
     "output_type": "execute_result"
    }
   ],
   "source": [
    "data1.isnull().sum()"
   ]
  },
  {
   "cell_type": "markdown",
   "metadata": {},
   "source": [
    "### Data encoding"
   ]
  },
  {
   "cell_type": "code",
   "execution_count": 32,
   "metadata": {},
   "outputs": [
    {
     "data": {
      "text/plain": [
       "NumberOfWindows\n",
       "without    3550\n",
       "4           939\n",
       "3           844\n",
       "5           639\n",
       "2           363\n",
       "6           306\n",
       "7           211\n",
       "8           116\n",
       "1            75\n",
       ">=10         67\n",
       "9            49\n",
       "Name: count, dtype: int64"
      ]
     },
     "execution_count": 32,
     "metadata": {},
     "output_type": "execute_result"
    }
   ],
   "source": [
    "data1[\"NumberOfWindows\"].value_counts()"
   ]
  },
  {
   "cell_type": "code",
   "execution_count": 33,
   "metadata": {},
   "outputs": [],
   "source": [
    "data1['NumberOfWindows'].replace([\"without\"],[0], inplace=True)"
   ]
  },
  {
   "cell_type": "code",
   "execution_count": 34,
   "metadata": {},
   "outputs": [
    {
     "data": {
      "text/plain": [
       "NumberOfWindows\n",
       "0       3550\n",
       "4        939\n",
       "3        844\n",
       "5        639\n",
       "2        363\n",
       "6        306\n",
       "7        211\n",
       "8        116\n",
       "1         75\n",
       ">=10      67\n",
       "9         49\n",
       "Name: count, dtype: int64"
      ]
     },
     "execution_count": 34,
     "metadata": {},
     "output_type": "execute_result"
    }
   ],
   "source": [
    "data1[\"NumberOfWindows\"].value_counts()"
   ]
  },
  {
   "cell_type": "code",
   "execution_count": 35,
   "metadata": {},
   "outputs": [],
   "source": [
    "data1['NumberOfWindows'].replace([\">=10\"],[10], inplace=True)"
   ]
  },
  {
   "cell_type": "code",
   "execution_count": 36,
   "metadata": {},
   "outputs": [
    {
     "data": {
      "text/plain": [
       "NumberOfWindows\n",
       "0     3550\n",
       "4      939\n",
       "3      844\n",
       "5      639\n",
       "2      363\n",
       "6      306\n",
       "7      211\n",
       "8      116\n",
       "1       75\n",
       "10      67\n",
       "9       49\n",
       "Name: count, dtype: int64"
      ]
     },
     "execution_count": 36,
     "metadata": {},
     "output_type": "execute_result"
    }
   ],
   "source": [
    "data1[\"NumberOfWindows\"].value_counts()"
   ]
  },
  {
   "cell_type": "code",
   "execution_count": 37,
   "metadata": {},
   "outputs": [
    {
     "data": {
      "text/plain": [
       "Claim\n",
       "non    5525\n",
       "oui    1634\n",
       "Name: count, dtype: int64"
      ]
     },
     "execution_count": 37,
     "metadata": {},
     "output_type": "execute_result"
    }
   ],
   "source": [
    "data1[\"Claim\"].value_counts()"
   ]
  },
  {
   "cell_type": "code",
   "execution_count": 38,
   "metadata": {},
   "outputs": [],
   "source": [
    "data1['Claim'].replace([\"non\",\"oui\"],[0,1], inplace=True)"
   ]
  },
  {
   "cell_type": "code",
   "execution_count": 39,
   "metadata": {},
   "outputs": [
    {
     "data": {
      "text/plain": [
       "Claim\n",
       "0    5525\n",
       "1    1634\n",
       "Name: count, dtype: int64"
      ]
     },
     "execution_count": 39,
     "metadata": {},
     "output_type": "execute_result"
    }
   ],
   "source": [
    "data1[\"Claim\"].value_counts()"
   ]
  },
  {
   "cell_type": "code",
   "execution_count": 40,
   "metadata": {},
   "outputs": [
    {
     "data": {
      "text/html": [
       "<div>\n",
       "<style scoped>\n",
       "    .dataframe tbody tr th:only-of-type {\n",
       "        vertical-align: middle;\n",
       "    }\n",
       "\n",
       "    .dataframe tbody tr th {\n",
       "        vertical-align: top;\n",
       "    }\n",
       "\n",
       "    .dataframe thead th {\n",
       "        text-align: right;\n",
       "    }\n",
       "</style>\n",
       "<table border=\"1\" class=\"dataframe\">\n",
       "  <thead>\n",
       "    <tr style=\"text-align: right;\">\n",
       "      <th></th>\n",
       "      <th>Customer Id</th>\n",
       "      <th>YearOfObservation</th>\n",
       "      <th>Insured_Period</th>\n",
       "      <th>Residential</th>\n",
       "      <th>Building_Painted</th>\n",
       "      <th>Building_Fenced</th>\n",
       "      <th>Garden</th>\n",
       "      <th>Settlement</th>\n",
       "      <th>Building Dimension</th>\n",
       "      <th>Building_Type</th>\n",
       "      <th>NumberOfWindows</th>\n",
       "      <th>Claim</th>\n",
       "    </tr>\n",
       "  </thead>\n",
       "  <tbody>\n",
       "    <tr>\n",
       "      <th>0</th>\n",
       "      <td>H13501</td>\n",
       "      <td>2012</td>\n",
       "      <td>1.0</td>\n",
       "      <td>1</td>\n",
       "      <td>0</td>\n",
       "      <td>1</td>\n",
       "      <td>1</td>\n",
       "      <td>1</td>\n",
       "      <td>1240.0</td>\n",
       "      <td>3</td>\n",
       "      <td>0</td>\n",
       "      <td>0</td>\n",
       "    </tr>\n",
       "    <tr>\n",
       "      <th>1</th>\n",
       "      <td>H14962</td>\n",
       "      <td>2012</td>\n",
       "      <td>1.0</td>\n",
       "      <td>0</td>\n",
       "      <td>0</td>\n",
       "      <td>1</td>\n",
       "      <td>1</td>\n",
       "      <td>1</td>\n",
       "      <td>900.0</td>\n",
       "      <td>1</td>\n",
       "      <td>0</td>\n",
       "      <td>0</td>\n",
       "    </tr>\n",
       "    <tr>\n",
       "      <th>2</th>\n",
       "      <td>H17755</td>\n",
       "      <td>2013</td>\n",
       "      <td>1.0</td>\n",
       "      <td>1</td>\n",
       "      <td>1</td>\n",
       "      <td>0</td>\n",
       "      <td>0</td>\n",
       "      <td>0</td>\n",
       "      <td>4984.0</td>\n",
       "      <td>1</td>\n",
       "      <td>4</td>\n",
       "      <td>1</td>\n",
       "    </tr>\n",
       "    <tr>\n",
       "      <th>3</th>\n",
       "      <td>H13369</td>\n",
       "      <td>2016</td>\n",
       "      <td>0.5</td>\n",
       "      <td>0</td>\n",
       "      <td>0</td>\n",
       "      <td>1</td>\n",
       "      <td>1</td>\n",
       "      <td>1</td>\n",
       "      <td>600.0</td>\n",
       "      <td>3</td>\n",
       "      <td>0</td>\n",
       "      <td>1</td>\n",
       "    </tr>\n",
       "    <tr>\n",
       "      <th>4</th>\n",
       "      <td>H12988</td>\n",
       "      <td>2012</td>\n",
       "      <td>1.0</td>\n",
       "      <td>0</td>\n",
       "      <td>0</td>\n",
       "      <td>1</td>\n",
       "      <td>1</td>\n",
       "      <td>1</td>\n",
       "      <td>900.0</td>\n",
       "      <td>1</td>\n",
       "      <td>0</td>\n",
       "      <td>0</td>\n",
       "    </tr>\n",
       "  </tbody>\n",
       "</table>\n",
       "</div>"
      ],
      "text/plain": [
       "  Customer Id  YearOfObservation  Insured_Period  Residential   \n",
       "0      H13501               2012             1.0            1  \\\n",
       "1      H14962               2012             1.0            0   \n",
       "2      H17755               2013             1.0            1   \n",
       "3      H13369               2016             0.5            0   \n",
       "4      H12988               2012             1.0            0   \n",
       "\n",
       "   Building_Painted  Building_Fenced  Garden  Settlement  Building Dimension   \n",
       "0                 0                1       1           1              1240.0  \\\n",
       "1                 0                1       1           1               900.0   \n",
       "2                 1                0       0           0              4984.0   \n",
       "3                 0                1       1           1               600.0   \n",
       "4                 0                1       1           1               900.0   \n",
       "\n",
       "   Building_Type NumberOfWindows  Claim  \n",
       "0              3               0      0  \n",
       "1              1               0      0  \n",
       "2              1               4      1  \n",
       "3              3               0      1  \n",
       "4              1               0      0  "
      ]
     },
     "execution_count": 40,
     "metadata": {},
     "output_type": "execute_result"
    }
   ],
   "source": [
    "Encoder=LabelEncoder()\n",
    "data1['Building_Type']=Encoder.fit_transform(data1['Building_Type'])\n",
    "data1['Settlement']=Encoder.fit_transform(data1['Settlement'])\n",
    "data1['Garden']=Encoder.fit_transform(data1['Garden'])\n",
    "data1['Building_Fenced']=Encoder.fit_transform(data1['Building_Fenced'])\n",
    "data1['Building_Painted']=Encoder.fit_transform(data1['Building_Painted'])\n",
    "\n",
    "data1.head()"
   ]
  },
  {
   "cell_type": "code",
   "execution_count": 41,
   "metadata": {},
   "outputs": [],
   "source": [
    "final_data=data1.drop('Customer Id', axis=1)"
   ]
  },
  {
   "cell_type": "code",
   "execution_count": 42,
   "metadata": {
    "scrolled": true
   },
   "outputs": [
    {
     "data": {
      "text/html": [
       "<div>\n",
       "<style scoped>\n",
       "    .dataframe tbody tr th:only-of-type {\n",
       "        vertical-align: middle;\n",
       "    }\n",
       "\n",
       "    .dataframe tbody tr th {\n",
       "        vertical-align: top;\n",
       "    }\n",
       "\n",
       "    .dataframe thead th {\n",
       "        text-align: right;\n",
       "    }\n",
       "</style>\n",
       "<table border=\"1\" class=\"dataframe\">\n",
       "  <thead>\n",
       "    <tr style=\"text-align: right;\">\n",
       "      <th></th>\n",
       "      <th>YearOfObservation</th>\n",
       "      <th>Insured_Period</th>\n",
       "      <th>Residential</th>\n",
       "      <th>Building_Painted</th>\n",
       "      <th>Building_Fenced</th>\n",
       "      <th>Garden</th>\n",
       "      <th>Settlement</th>\n",
       "      <th>Building Dimension</th>\n",
       "      <th>Building_Type</th>\n",
       "      <th>NumberOfWindows</th>\n",
       "      <th>Claim</th>\n",
       "    </tr>\n",
       "  </thead>\n",
       "  <tbody>\n",
       "    <tr>\n",
       "      <th>0</th>\n",
       "      <td>2012</td>\n",
       "      <td>1.0</td>\n",
       "      <td>1</td>\n",
       "      <td>0</td>\n",
       "      <td>1</td>\n",
       "      <td>1</td>\n",
       "      <td>1</td>\n",
       "      <td>1240.0</td>\n",
       "      <td>3</td>\n",
       "      <td>0</td>\n",
       "      <td>0</td>\n",
       "    </tr>\n",
       "    <tr>\n",
       "      <th>1</th>\n",
       "      <td>2012</td>\n",
       "      <td>1.0</td>\n",
       "      <td>0</td>\n",
       "      <td>0</td>\n",
       "      <td>1</td>\n",
       "      <td>1</td>\n",
       "      <td>1</td>\n",
       "      <td>900.0</td>\n",
       "      <td>1</td>\n",
       "      <td>0</td>\n",
       "      <td>0</td>\n",
       "    </tr>\n",
       "    <tr>\n",
       "      <th>2</th>\n",
       "      <td>2013</td>\n",
       "      <td>1.0</td>\n",
       "      <td>1</td>\n",
       "      <td>1</td>\n",
       "      <td>0</td>\n",
       "      <td>0</td>\n",
       "      <td>0</td>\n",
       "      <td>4984.0</td>\n",
       "      <td>1</td>\n",
       "      <td>4</td>\n",
       "      <td>1</td>\n",
       "    </tr>\n",
       "    <tr>\n",
       "      <th>3</th>\n",
       "      <td>2016</td>\n",
       "      <td>0.5</td>\n",
       "      <td>0</td>\n",
       "      <td>0</td>\n",
       "      <td>1</td>\n",
       "      <td>1</td>\n",
       "      <td>1</td>\n",
       "      <td>600.0</td>\n",
       "      <td>3</td>\n",
       "      <td>0</td>\n",
       "      <td>1</td>\n",
       "    </tr>\n",
       "    <tr>\n",
       "      <th>4</th>\n",
       "      <td>2012</td>\n",
       "      <td>1.0</td>\n",
       "      <td>0</td>\n",
       "      <td>0</td>\n",
       "      <td>1</td>\n",
       "      <td>1</td>\n",
       "      <td>1</td>\n",
       "      <td>900.0</td>\n",
       "      <td>1</td>\n",
       "      <td>0</td>\n",
       "      <td>0</td>\n",
       "    </tr>\n",
       "  </tbody>\n",
       "</table>\n",
       "</div>"
      ],
      "text/plain": [
       "   YearOfObservation  Insured_Period  Residential  Building_Painted   \n",
       "0               2012             1.0            1                 0  \\\n",
       "1               2012             1.0            0                 0   \n",
       "2               2013             1.0            1                 1   \n",
       "3               2016             0.5            0                 0   \n",
       "4               2012             1.0            0                 0   \n",
       "\n",
       "   Building_Fenced  Garden  Settlement  Building Dimension  Building_Type   \n",
       "0                1       1           1              1240.0              3  \\\n",
       "1                1       1           1               900.0              1   \n",
       "2                0       0           0              4984.0              1   \n",
       "3                1       1           1               600.0              3   \n",
       "4                1       1           1               900.0              1   \n",
       "\n",
       "  NumberOfWindows  Claim  \n",
       "0               0      0  \n",
       "1               0      0  \n",
       "2               4      1  \n",
       "3               0      1  \n",
       "4               0      0  "
      ]
     },
     "execution_count": 42,
     "metadata": {},
     "output_type": "execute_result"
    }
   ],
   "source": [
    "final_data.head()"
   ]
  },
  {
   "cell_type": "code",
   "execution_count": 43,
   "metadata": {},
   "outputs": [
    {
     "data": {
      "text/plain": [
       "(7159, 11)"
      ]
     },
     "execution_count": 43,
     "metadata": {},
     "output_type": "execute_result"
    }
   ],
   "source": [
    "final_data.shape"
   ]
  },
  {
   "cell_type": "markdown",
   "metadata": {
    "id": "4pKhtTMi4ZDC"
   },
   "source": [
    "# II. Machine learning: building models"
   ]
  },
  {
   "cell_type": "code",
   "execution_count": 44,
   "metadata": {
    "id": "jY66qTipp9j9"
   },
   "outputs": [],
   "source": [
    "train, test = train_test_split(final_data, test_size=0.2999)"
   ]
  },
  {
   "cell_type": "code",
   "execution_count": 45,
   "metadata": {
    "id": "-aLtoNbm4XqN"
   },
   "outputs": [
    {
     "name": "stdout",
     "output_type": "stream",
     "text": [
      "(5012, 11)\n",
      "(2147, 11)\n"
     ]
    }
   ],
   "source": [
    "print(train.shape)\n",
    "print(test.shape)"
   ]
  },
  {
   "cell_type": "code",
   "execution_count": 46,
   "metadata": {},
   "outputs": [],
   "source": [
    "y_train=train[\"Claim\"]\n",
    "y_test=test[\"Claim\"]"
   ]
  },
  {
   "cell_type": "code",
   "execution_count": 47,
   "metadata": {},
   "outputs": [],
   "source": [
    "x_train=train[[\"YearOfObservation\",\"Insured_Period\",\"Residential\",\"Building_Painted\",\"Building_Fenced\",\"Garden\",\"Settlement\",\"Building Dimension\",\"Building_Type\",\"NumberOfWindows\"]]\n",
    "x_test=test[[\"YearOfObservation\",\"Insured_Period\",\"Residential\",\"Building_Painted\",\"Building_Fenced\",\"Garden\",\"Settlement\",\"Building Dimension\",\"Building_Type\",\"NumberOfWindows\"]]"
   ]
  },
  {
   "cell_type": "code",
   "execution_count": 48,
   "metadata": {},
   "outputs": [
    {
     "name": "stdout",
     "output_type": "stream",
     "text": [
      "(5012, 10)\n",
      "(2147, 10)\n"
     ]
    }
   ],
   "source": [
    "print(x_train.shape)\n",
    "print(x_test.shape)"
   ]
  },
  {
   "cell_type": "markdown",
   "metadata": {},
   "source": [
    "### Decision tree"
   ]
  },
  {
   "cell_type": "code",
   "execution_count": 49,
   "metadata": {},
   "outputs": [
    {
     "data": {
      "text/plain": [
       "DecisionTreeClassifier(max_depth=5, random_state=25)"
      ]
     },
     "execution_count": 49,
     "metadata": {},
     "output_type": "execute_result"
    }
   ],
   "source": [
    "Arbre=DecisionTreeClassifier(random_state=25, max_depth=5)\n",
    "Arbre.fit(x_train,y_train,sample_weight=None,check_input=True)\n"
   ]
  },
  {
   "cell_type": "markdown",
   "metadata": {},
   "source": [
    "### Logistic regression"
   ]
  },
  {
   "cell_type": "code",
   "execution_count": 69,
   "metadata": {},
   "outputs": [
    {
     "data": {
      "text/plain": [
       "LogisticRegression()"
      ]
     },
     "execution_count": 69,
     "metadata": {},
     "output_type": "execute_result"
    }
   ],
   "source": [
    "LR = LogisticRegression()\n",
    "LR.fit(x_train,y_train)"
   ]
  },
  {
   "cell_type": "markdown",
   "metadata": {},
   "source": [
    "### Random Forest Classifier"
   ]
  },
  {
   "cell_type": "code",
   "execution_count": 82,
   "metadata": {},
   "outputs": [
    {
     "data": {
      "text/plain": [
       "RandomForestClassifier()"
      ]
     },
     "execution_count": 82,
     "metadata": {},
     "output_type": "execute_result"
    }
   ],
   "source": [
    "rf = RandomForestClassifier()\n",
    "rf.fit(x_train, y_train)"
   ]
  },
  {
   "cell_type": "markdown",
   "metadata": {},
   "source": [
    "### MLP Classifier"
   ]
  },
  {
   "cell_type": "code",
   "execution_count": 83,
   "metadata": {},
   "outputs": [
    {
     "data": {
      "text/plain": [
       "MLPClassifier()"
      ]
     },
     "execution_count": 83,
     "metadata": {},
     "output_type": "execute_result"
    }
   ],
   "source": [
    "mlp = MLPClassifier()\n",
    "mlp.fit(x_train, y_train)"
   ]
  },
  {
   "cell_type": "markdown",
   "metadata": {
    "id": "uz2JcSJ24wP9"
   },
   "source": [
    "---"
   ]
  },
  {
   "cell_type": "markdown",
   "metadata": {
    "id": "aaJeBnbf4y2D"
   },
   "source": [
    "# III. Validation & Interpretation"
   ]
  },
  {
   "cell_type": "markdown",
   "metadata": {},
   "source": [
    "### Decision tree"
   ]
  },
  {
   "cell_type": "code",
   "execution_count": 58,
   "metadata": {
    "id": "orZbrYDX4wpM"
   },
   "outputs": [
    {
     "data": {
      "text/plain": [
       "0.7806241266884024"
      ]
     },
     "execution_count": 58,
     "metadata": {},
     "output_type": "execute_result"
    }
   ],
   "source": [
    "Arbre.score(x_test,y_test)"
   ]
  },
  {
   "cell_type": "code",
   "execution_count": 60,
   "metadata": {
    "id": "ZfWZC-e-p-QG"
   },
   "outputs": [
    {
     "data": {
      "image/png": "[encoded data removed]",
      "text/plain": [
       "<Figure size 432x288 with 2 Axes>"
      ]
     },
     "metadata": {
      "needs_background": "light"
     },
     "output_type": "display_data"
    }
   ],
   "source": [
    "plot_confusion_matrix(Arbre, x_test, y_test)\n",
    "plt.show()"
   ]
  },
  {
   "cell_type": "code",
   "execution_count": 84,
   "metadata": {},
   "outputs": [
    {
     "name": "stdout",
     "output_type": "stream",
     "text": [
      "              precision    recall  f1-score   support\n",
      "\n",
      "           0       0.80      0.96      0.87      1658\n",
      "           1       0.55      0.19      0.28       489\n",
      "\n",
      "    accuracy                           0.78      2147\n",
      "   macro avg       0.68      0.57      0.58      2147\n",
      "weighted avg       0.74      0.78      0.74      2147\n",
      "\n"
     ]
    }
   ],
   "source": [
    "print(classification_report(y_test,Arbre.predict(x_test)))"
   ]
  },
  {
   "cell_type": "markdown",
   "metadata": {},
   "source": [
    "### Logistic regression"
   ]
  },
  {
   "cell_type": "code",
   "execution_count": 64,
   "metadata": {},
   "outputs": [
    {
     "data": {
      "text/plain": [
       "0.7862133209129017"
      ]
     },
     "execution_count": 64,
     "metadata": {},
     "output_type": "execute_result"
    }
   ],
   "source": [
    "LR.score(x_test,y_test)"
   ]
  },
  {
   "cell_type": "code",
   "execution_count": 86,
   "metadata": {},
   "outputs": [
    {
     "data": {
      "image/png": "[encoded data removed]",
      "text/plain": [
       "<Figure size 432x288 with 2 Axes>"
      ]
     },
     "metadata": {
      "needs_background": "light"
     },
     "output_type": "display_data"
    }
   ],
   "source": [
    "plot_confusion_matrix(LR, x_test, y_test)\n",
    "plt.show()"
   ]
  },
  {
   "cell_type": "markdown",
   "metadata": {},
   "source": [
    "### Random Forest Classifier"
   ]
  },
  {
   "cell_type": "code",
   "execution_count": 85,
   "metadata": {},
   "outputs": [
    {
     "data": {
      "text/plain": [
       "0.7317186772240335"
      ]
     },
     "execution_count": 85,
     "metadata": {},
     "output_type": "execute_result"
    }
   ],
   "source": [
    "rf.score(x_test,y_test)"
   ]
  },
  {
   "cell_type": "code",
   "execution_count": 78,
   "metadata": {},
   "outputs": [
    {
     "data": {
      "image/png": "[encoded data removed]",
      "text/plain": [
       "<Figure size 432x288 with 2 Axes>"
      ]
     },
     "metadata": {
      "needs_background": "light"
     },
     "output_type": "display_data"
    }
   ],
   "source": [
    "plot_confusion_matrix(rf, x_test, y_test)\n",
    "plt.show()"
   ]
  },
  {
   "cell_type": "code",
   "execution_count": 89,
   "metadata": {},
   "outputs": [
    {
     "name": "stdout",
     "output_type": "stream",
     "text": [
      "              precision    recall  f1-score   support\n",
      "\n",
      "           0       0.80      0.87      0.83      1658\n",
      "           1       0.38      0.28      0.32       489\n",
      "\n",
      "    accuracy                           0.73      2147\n",
      "   macro avg       0.59      0.57      0.58      2147\n",
      "weighted avg       0.71      0.73      0.72      2147\n",
      "\n"
     ]
    }
   ],
   "source": [
    "print(classification_report(y_test,rf.predict(x_test)))"
   ]
  },
  {
   "cell_type": "markdown",
   "metadata": {},
   "source": [
    "### MLP Classifier "
   ]
  },
  {
   "cell_type": "code",
   "execution_count": 90,
   "metadata": {},
   "outputs": [
    {
     "data": {
      "text/plain": [
       "0.7233348858872846"
      ]
     },
     "execution_count": 90,
     "metadata": {},
     "output_type": "execute_result"
    }
   ],
   "source": [
    "mlp.score(x_test,y_test)"
   ]
  },
  {
   "cell_type": "code",
   "execution_count": 91,
   "metadata": {},
   "outputs": [
    {
     "data": {
      "image/png": "[encoded data removed]",
      "text/plain": [
       "<Figure size 432x288 with 2 Axes>"
      ]
     },
     "metadata": {
      "needs_background": "light"
     },
     "output_type": "display_data"
    }
   ],
   "source": [
    "plot_confusion_matrix(mlp, x_test, y_test)\n",
    "plt.show()"
   ]
  },
  {
   "cell_type": "code",
   "execution_count": 88,
   "metadata": {},
   "outputs": [
    {
     "name": "stdout",
     "output_type": "stream",
     "text": [
      "              precision    recall  f1-score   support\n",
      "\n",
      "           0       0.83      0.81      0.82      1658\n",
      "           1       0.40      0.42      0.41       489\n",
      "\n",
      "    accuracy                           0.72      2147\n",
      "   macro avg       0.61      0.62      0.61      2147\n",
      "weighted avg       0.73      0.72      0.73      2147\n",
      "\n"
     ]
    }
   ],
   "source": [
    "print(classification_report(y_test,mlp.predict(x_test)))"
   ]
  },
  {
   "cell_type": "markdown",
   "metadata": {
    "id": "1av1OuVq4-T1"
   },
   "source": [
    "---"
   ]
  }
 ],
 "metadata": {
  "colab": {
   "provenance": []
  },
  "kernelspec": {
   "display_name": "Python 3 (ipykernel)",
   "language": "python",
   "name": "python3"
  },
  "language_info": {
   "codemirror_mode": {
    "name": "ipython",
    "version": 3
   },
   "file_extension": ".py",
   "mimetype": "text/x-python",
   "name": "python",
   "nbconvert_exporter": "python",
   "pygments_lexer": "ipython3",
   "version": "3.9.12"
  }
 },
 "nbformat": 4,
 "nbformat_minor": 1
}
